{
 "cells": [
  {
   "cell_type": "code",
   "execution_count": 1,
   "metadata": {},
   "outputs": [
    {
     "name": "stdout",
     "output_type": "stream",
     "text": [
      "Python 3.9.7\n"
     ]
    }
   ],
   "source": [
    "!python3 --version"
   ]
  },
  {
   "cell_type": "markdown",
   "metadata": {},
   "source": [
    "### Imports"
   ]
  },
  {
   "cell_type": "code",
   "execution_count": 2,
   "metadata": {},
   "outputs": [],
   "source": [
    "import os\n",
    "import csv\n",
    "import json\n",
    "from pathlib import Path\n",
    "\n",
    "import pandas as pd"
   ]
  },
  {
   "cell_type": "markdown",
   "metadata": {},
   "source": [
    "### Dataset Paths"
   ]
  },
  {
   "cell_type": "code",
   "execution_count": 6,
   "metadata": {},
   "outputs": [],
   "source": [
    "# Dataset Paths\n",
    "DATASET_PATH = Path('/mnt/DATA/fharookshaik/major_project/dataset')\n",
    "TRAIN_IMAGES_DIR_PATH = os.path.join(DATASET_PATH,'Train','images')\n",
    "\n",
    "TRAIN_JSON_PATH = os.path.join(DATASET_PATH,'Train','train.jsonl')\n",
    "VALIDATE_JSON_PATH = os.path.join(DATASET_PATH,'Train','val.jsonl')"
   ]
  },
  {
   "cell_type": "code",
   "execution_count": 7,
   "metadata": {},
   "outputs": [],
   "source": [
    "TEST_IMAGES_DIR_PATH = os.path.join(DATASET_PATH,'Test','images')\n",
    "\n",
    "TEST_JSON_PATH = os.path.join(DATASET_PATH,'Test','test.jsonl')"
   ]
  },
  {
   "cell_type": "markdown",
   "metadata": {},
   "source": [
    "### Converting jsonl files to csv files"
   ]
  },
  {
   "cell_type": "code",
   "execution_count": 4,
   "metadata": {},
   "outputs": [],
   "source": [
    "# Helper function that returns None if a list is empty\n",
    "ret_val = lambda data, key : data.get(key) if data.get(key) != [] else None   "
   ]
  },
  {
   "cell_type": "code",
   "execution_count": 8,
   "metadata": {},
   "outputs": [],
   "source": [
    "# TRAIN JSONL File\n",
    "\n",
    "# Converting jsonl to json file\n",
    "with open(TRAIN_JSON_PATH,'r') as f:\n",
    "    data = f.read()\n",
    "\n",
    "data = data.splitlines()\n",
    "\n",
    "for idx,line in enumerate(data):\n",
    "    data[idx] = f'\"{idx}\" : ' +  line + ','\n",
    "\n",
    "# data = '{' + data + '}'\n",
    "with open('train.json','w') as f:\n",
    "    f.writelines(data)\n"
   ]
  },
  {
   "cell_type": "code",
   "execution_count": 9,
   "metadata": {},
   "outputs": [
    {
     "name": "stdout",
     "output_type": "stream",
     "text": [
      "dict_keys(['OCR', 'image', 'hero', 'villain', 'victim', 'other'])\n"
     ]
    }
   ],
   "source": [
    "# Converting train.json to train.csv file\n",
    "with open('train.json','r') as f:\n",
    "    data = json.load(f)\n",
    "\n",
    "headers = data.get(\"0\").keys()\n",
    "print(headers)\n",
    "\n",
    "with open('train.csv','w') as f:\n",
    "    writer = csv.writer(f)\n",
    "    writer.writerow(headers)\n",
    "    for _,val in data.items():\n",
    "        OCR = str(val.get('OCR')).replace('\\n',' ')\n",
    "        image = val.get('image')\n",
    "        hero = ret_val(val,'hero')\n",
    "        villian = ret_val(val,'villain')\n",
    "        victim = ret_val(val,'victim')\n",
    "        other = ret_val(val,'other')\n",
    "    \n",
    "\n",
    "        writer.writerow([OCR,image,hero,villian,victim,other])"
   ]
  },
  {
   "cell_type": "code",
   "execution_count": 10,
   "metadata": {},
   "outputs": [],
   "source": [
    "# VAL JSONL File\n",
    "\n",
    "# Converting jsonl to json file\n",
    "with open(VALIDATE_JSON_PATH,'r') as f:\n",
    "    data = f.read()\n",
    "\n",
    "data = data.splitlines()\n",
    "\n",
    "for idx,line in enumerate(data):\n",
    "    data[idx] = f'\"{idx}\" : ' +  line + ','\n",
    "\n",
    "# data = '{' + data + '}'\n",
    "with open('val.json','w') as f:\n",
    "    f.writelines(data)\n"
   ]
  },
  {
   "cell_type": "code",
   "execution_count": 11,
   "metadata": {},
   "outputs": [
    {
     "name": "stdout",
     "output_type": "stream",
     "text": [
      "dict_keys(['OCR', 'image', 'hero', 'villain', 'victim', 'other'])\n"
     ]
    }
   ],
   "source": [
    "# Converting val.json to val.csv file\n",
    "with open('val.json','r') as f:\n",
    "    data = json.load(f)\n",
    "\n",
    "headers = data.get(\"0\").keys()\n",
    "print(headers)\n",
    "\n",
    "\n",
    "with open('val.csv','w') as f:\n",
    "    writer = csv.writer(f)\n",
    "    writer.writerow(headers)\n",
    "    for _,val in data.items():\n",
    "        OCR = str(val.get('OCR')).replace('\\n',' ')\n",
    "        image = val.get('image')\n",
    "        hero = ret_val(val,'hero')\n",
    "        villian = ret_val(val,'villain')\n",
    "        victim = ret_val(val,'victim')\n",
    "        other = ret_val(val,'other')\n",
    "\n",
    "        writer.writerow([OCR,image,hero,villian,victim,other])"
   ]
  },
  {
   "cell_type": "code",
   "execution_count": 12,
   "metadata": {},
   "outputs": [],
   "source": [
    "# TEST JSONL File\n",
    "\n",
    "# Converting jsonl to json file\n",
    "with open(TEST_JSON_PATH,'r') as f:\n",
    "    data = f.read()\n",
    "\n",
    "data = data.splitlines()\n",
    "\n",
    "for idx,line in enumerate(data):\n",
    "    data[idx] = f'\"{idx}\" : ' +  line + ','\n",
    "\n",
    "# data = '{' + data + '}'\n",
    "with open('test.json','w') as f:\n",
    "    f.writelines(data)\n"
   ]
  },
  {
   "cell_type": "code",
   "execution_count": 15,
   "metadata": {},
   "outputs": [
    {
     "name": "stdout",
     "output_type": "stream",
     "text": [
      "dict_keys(['OCR', 'image', 'entity_list'])\n"
     ]
    }
   ],
   "source": [
    "# Converting test.json to test.csv file\n",
    "with open('test.json','r') as f:\n",
    "    data = json.load(f)\n",
    "\n",
    "headers = data.get(\"0\").keys()\n",
    "print(headers)\n",
    "\n",
    "\n",
    "with open('test.csv','w') as f:\n",
    "    writer = csv.writer(f)\n",
    "    writer.writerow(headers)\n",
    "    for _,val in data.items():\n",
    "        OCR = str(val.get('OCR')).replace('\\n',' ')\n",
    "        image = val.get('image')\n",
    "        entity_list = val.get('entity_list')\n",
    "        # hero = ret_val(val,'hero')\n",
    "        # villian = ret_val(val,'villain')\n",
    "        # victim = ret_val(val,'victim')\n",
    "        # other = ret_val(val,'other')\n",
    "\n",
    "        writer.writerow([OCR,image,entity_list])"
   ]
  },
  {
   "cell_type": "markdown",
   "metadata": {},
   "source": [
    "### Coverting Json to Jsonl"
   ]
  },
  {
   "cell_type": "code",
   "execution_count": 1,
   "metadata": {},
   "outputs": [],
   "source": [
    "import os\n",
    "from pathlib import Path\n",
    "import json"
   ]
  },
  {
   "cell_type": "code",
   "execution_count": 8,
   "metadata": {},
   "outputs": [],
   "source": [
    "json_file = Path('/mnt/DATA/fharookshaik/major_project/dataset/Results/result_Windowed_similarity_dictionary.json')"
   ]
  },
  {
   "cell_type": "code",
   "execution_count": 10,
   "metadata": {},
   "outputs": [
    {
     "name": "stdout",
     "output_type": "stream",
     "text": [
      "Done\n"
     ]
    }
   ],
   "source": [
    "with open(json_file,'r') as f:\n",
    "    data = json.load(f)\n",
    "\n",
    "with open('/mnt/DATA/fharookshaik/major_project/dataset/Results/jsonl/result_sentiment_analysis.jsonl', 'w') as f:\n",
    "    for _,val in data.items():\n",
    "        del val['OCR']\n",
    "        f.write(str(val)+'\\n')\n",
    "print('Done')"
   ]
  },
  {
   "cell_type": "code",
   "execution_count": null,
   "metadata": {},
   "outputs": [],
   "source": [
    "\"\"\"\n",
    "Format:\n",
    "{‘image’ : memes_1486.png’, ‘hero’ :['Donald Trump'], ‘villain’ : ['Joe Biden'], ‘victim’ : [], ‘other’ : ['Democratic National Convention (DNC)’, 'Republican National Convention (RNC)']}\n",
    "\n",
    "{‘image’ : ‘image_2.png’, ‘hero’ : [‘Vladimir Putin’], ‘villain’ : [], ‘victim’ : [], ‘other’ : [‘the world’, ‘Salman Khan’, ‘vaccine’]}\n",
    "\"\"\""
   ]
  },
  {
   "cell_type": "code",
   "execution_count": null,
   "metadata": {},
   "outputs": [],
   "source": []
  },
  {
   "cell_type": "markdown",
   "metadata": {},
   "source": [
    "### Getting Metadata from Image"
   ]
  },
  {
   "cell_type": "code",
   "execution_count": 5,
   "metadata": {},
   "outputs": [],
   "source": [
    "# from mtcnn.mtcnn import MTCNN\n",
    "# from keras_vggface.vggface import VGGFace\n",
    "# from keras_vggface.utils import preprocess_input,decode_predictions\n",
    "\n",
    "# import PIL\n",
    "# import os\n",
    "# import numpy as np\n",
    "# import pandas as pd\n",
    "# import cv2 as cv"
   ]
  },
  {
   "cell_type": "code",
   "execution_count": 42,
   "metadata": {},
   "outputs": [
    {
     "ename": "ValueError",
     "evalue": "bad marshal data (unknown type code)",
     "output_type": "error",
     "traceback": [
      "\u001b[0;31m---------------------------------------------------------------------------\u001b[0m",
      "\u001b[0;31mValueError\u001b[0m                                Traceback (most recent call last)",
      "\u001b[1;32m/mnt/DATA/fharookshaik/Major Project/notebooks/processing-rawdata.ipynb Cell 14'\u001b[0m in \u001b[0;36m<module>\u001b[0;34m\u001b[0m\n\u001b[1;32m      <a href='vscode-notebook-cell:/mnt/DATA/fharookshaik/Major%20Project/notebooks/processing-rawdata.ipynb#ch0000013?line=0'>1</a>\u001b[0m \u001b[39m# from keras.applications.inception_v3 import InceptionV3,decode_predictions\u001b[39;00m\n\u001b[1;32m      <a href='vscode-notebook-cell:/mnt/DATA/fharookshaik/Major%20Project/notebooks/processing-rawdata.ipynb#ch0000013?line=1'>2</a>\u001b[0m \n\u001b[1;32m      <a href='vscode-notebook-cell:/mnt/DATA/fharookshaik/Major%20Project/notebooks/processing-rawdata.ipynb#ch0000013?line=2'>3</a>\u001b[0m \u001b[39m# model = InceptionV3(\u001b[39;00m\n\u001b[1;32m      <a href='vscode-notebook-cell:/mnt/DATA/fharookshaik/Major%20Project/notebooks/processing-rawdata.ipynb#ch0000013?line=3'>4</a>\u001b[0m \u001b[39m#     include_top=True,\u001b[39;00m\n\u001b[1;32m      <a href='vscode-notebook-cell:/mnt/DATA/fharookshaik/Major%20Project/notebooks/processing-rawdata.ipynb#ch0000013?line=4'>5</a>\u001b[0m \u001b[39m#     weights='imagenet'\u001b[39;00m\n\u001b[1;32m      <a href='vscode-notebook-cell:/mnt/DATA/fharookshaik/Major%20Project/notebooks/processing-rawdata.ipynb#ch0000013?line=5'>6</a>\u001b[0m \u001b[39m# )\u001b[39;00m\n\u001b[1;32m      <a href='vscode-notebook-cell:/mnt/DATA/fharookshaik/Major%20Project/notebooks/processing-rawdata.ipynb#ch0000013?line=6'>7</a>\u001b[0m \u001b[39mfrom\u001b[39;00m \u001b[39mkeras\u001b[39;00m\u001b[39m.\u001b[39;00m\u001b[39mmodels\u001b[39;00m \u001b[39mimport\u001b[39;00m model_from_json\n\u001b[0;32m----> <a href='vscode-notebook-cell:/mnt/DATA/fharookshaik/Major%20Project/notebooks/processing-rawdata.ipynb#ch0000013?line=8'>9</a>\u001b[0m model \u001b[39m=\u001b[39m model_from_json(\u001b[39mopen\u001b[39;49m(\u001b[39m'\u001b[39;49m\u001b[39m../models/pre-trained/facenet/facenet_model.json\u001b[39;49m\u001b[39m'\u001b[39;49m,\u001b[39m'\u001b[39;49m\u001b[39mr\u001b[39;49m\u001b[39m'\u001b[39;49m)\u001b[39m.\u001b[39;49mread())\n\u001b[1;32m     <a href='vscode-notebook-cell:/mnt/DATA/fharookshaik/Major%20Project/notebooks/processing-rawdata.ipynb#ch0000013?line=10'>11</a>\u001b[0m model\u001b[39m.\u001b[39mload_weights(\u001b[39m'\u001b[39m\u001b[39m../models/pre-trained/facenet/facenet_weights.h5\u001b[39m\u001b[39m'\u001b[39m)\n",
      "File \u001b[0;32m/mnt/DATA/fharookshaik/Major Project/env/lib/python3.8/site-packages/keras/saving/model_config.py:104\u001b[0m, in \u001b[0;36mmodel_from_json\u001b[0;34m(json_string, custom_objects)\u001b[0m\n\u001b[1;32m    <a href='file:///mnt/DATA/fharookshaik/Major%20Project/env/lib/python3.8/site-packages/keras/saving/model_config.py?line=101'>102</a>\u001b[0m config \u001b[39m=\u001b[39m json_utils\u001b[39m.\u001b[39mdecode(json_string)\n\u001b[1;32m    <a href='file:///mnt/DATA/fharookshaik/Major%20Project/env/lib/python3.8/site-packages/keras/saving/model_config.py?line=102'>103</a>\u001b[0m \u001b[39mfrom\u001b[39;00m \u001b[39mkeras\u001b[39;00m\u001b[39m.\u001b[39;00m\u001b[39mlayers\u001b[39;00m \u001b[39mimport\u001b[39;00m deserialize  \u001b[39m# pylint: disable=g-import-not-at-top\u001b[39;00m\n\u001b[0;32m--> <a href='file:///mnt/DATA/fharookshaik/Major%20Project/env/lib/python3.8/site-packages/keras/saving/model_config.py?line=103'>104</a>\u001b[0m \u001b[39mreturn\u001b[39;00m deserialize(config, custom_objects\u001b[39m=\u001b[39;49mcustom_objects)\n",
      "File \u001b[0;32m/mnt/DATA/fharookshaik/Major Project/env/lib/python3.8/site-packages/keras/layers/serialization.py:207\u001b[0m, in \u001b[0;36mdeserialize\u001b[0;34m(config, custom_objects)\u001b[0m\n\u001b[1;32m    <a href='file:///mnt/DATA/fharookshaik/Major%20Project/env/lib/python3.8/site-packages/keras/layers/serialization.py?line=169'>170</a>\u001b[0m \u001b[39m\"\"\"Instantiates a layer from a config dictionary.\u001b[39;00m\n\u001b[1;32m    <a href='file:///mnt/DATA/fharookshaik/Major%20Project/env/lib/python3.8/site-packages/keras/layers/serialization.py?line=170'>171</a>\u001b[0m \n\u001b[1;32m    <a href='file:///mnt/DATA/fharookshaik/Major%20Project/env/lib/python3.8/site-packages/keras/layers/serialization.py?line=171'>172</a>\u001b[0m \u001b[39mArgs:\u001b[39;00m\n\u001b[0;32m   (...)\u001b[0m\n\u001b[1;32m    <a href='file:///mnt/DATA/fharookshaik/Major%20Project/env/lib/python3.8/site-packages/keras/layers/serialization.py?line=203'>204</a>\u001b[0m \u001b[39m```\u001b[39;00m\n\u001b[1;32m    <a href='file:///mnt/DATA/fharookshaik/Major%20Project/env/lib/python3.8/site-packages/keras/layers/serialization.py?line=204'>205</a>\u001b[0m \u001b[39m\"\"\"\u001b[39;00m\n\u001b[1;32m    <a href='file:///mnt/DATA/fharookshaik/Major%20Project/env/lib/python3.8/site-packages/keras/layers/serialization.py?line=205'>206</a>\u001b[0m populate_deserializable_objects()\n\u001b[0;32m--> <a href='file:///mnt/DATA/fharookshaik/Major%20Project/env/lib/python3.8/site-packages/keras/layers/serialization.py?line=206'>207</a>\u001b[0m \u001b[39mreturn\u001b[39;00m generic_utils\u001b[39m.\u001b[39;49mdeserialize_keras_object(\n\u001b[1;32m    <a href='file:///mnt/DATA/fharookshaik/Major%20Project/env/lib/python3.8/site-packages/keras/layers/serialization.py?line=207'>208</a>\u001b[0m     config,\n\u001b[1;32m    <a href='file:///mnt/DATA/fharookshaik/Major%20Project/env/lib/python3.8/site-packages/keras/layers/serialization.py?line=208'>209</a>\u001b[0m     module_objects\u001b[39m=\u001b[39;49mLOCAL\u001b[39m.\u001b[39;49mALL_OBJECTS,\n\u001b[1;32m    <a href='file:///mnt/DATA/fharookshaik/Major%20Project/env/lib/python3.8/site-packages/keras/layers/serialization.py?line=209'>210</a>\u001b[0m     custom_objects\u001b[39m=\u001b[39;49mcustom_objects,\n\u001b[1;32m    <a href='file:///mnt/DATA/fharookshaik/Major%20Project/env/lib/python3.8/site-packages/keras/layers/serialization.py?line=210'>211</a>\u001b[0m     printable_module_name\u001b[39m=\u001b[39;49m\u001b[39m'\u001b[39;49m\u001b[39mlayer\u001b[39;49m\u001b[39m'\u001b[39;49m)\n",
      "File \u001b[0;32m/mnt/DATA/fharookshaik/Major Project/env/lib/python3.8/site-packages/keras/utils/generic_utils.py:679\u001b[0m, in \u001b[0;36mdeserialize_keras_object\u001b[0;34m(identifier, module_objects, custom_objects, printable_module_name)\u001b[0m\n\u001b[1;32m    <a href='file:///mnt/DATA/fharookshaik/Major%20Project/env/lib/python3.8/site-packages/keras/utils/generic_utils.py?line=675'>676</a>\u001b[0m custom_objects \u001b[39m=\u001b[39m custom_objects \u001b[39mor\u001b[39;00m {}\n\u001b[1;32m    <a href='file:///mnt/DATA/fharookshaik/Major%20Project/env/lib/python3.8/site-packages/keras/utils/generic_utils.py?line=677'>678</a>\u001b[0m \u001b[39mif\u001b[39;00m \u001b[39m'\u001b[39m\u001b[39mcustom_objects\u001b[39m\u001b[39m'\u001b[39m \u001b[39min\u001b[39;00m arg_spec\u001b[39m.\u001b[39margs:\n\u001b[0;32m--> <a href='file:///mnt/DATA/fharookshaik/Major%20Project/env/lib/python3.8/site-packages/keras/utils/generic_utils.py?line=678'>679</a>\u001b[0m   deserialized_obj \u001b[39m=\u001b[39m \u001b[39mcls\u001b[39;49m\u001b[39m.\u001b[39;49mfrom_config(\n\u001b[1;32m    <a href='file:///mnt/DATA/fharookshaik/Major%20Project/env/lib/python3.8/site-packages/keras/utils/generic_utils.py?line=679'>680</a>\u001b[0m       cls_config,\n\u001b[1;32m    <a href='file:///mnt/DATA/fharookshaik/Major%20Project/env/lib/python3.8/site-packages/keras/utils/generic_utils.py?line=680'>681</a>\u001b[0m       custom_objects\u001b[39m=\u001b[39;49m\u001b[39mdict\u001b[39;49m(\n\u001b[1;32m    <a href='file:///mnt/DATA/fharookshaik/Major%20Project/env/lib/python3.8/site-packages/keras/utils/generic_utils.py?line=681'>682</a>\u001b[0m           \u001b[39mlist\u001b[39;49m(_GLOBAL_CUSTOM_OBJECTS\u001b[39m.\u001b[39;49mitems()) \u001b[39m+\u001b[39;49m\n\u001b[1;32m    <a href='file:///mnt/DATA/fharookshaik/Major%20Project/env/lib/python3.8/site-packages/keras/utils/generic_utils.py?line=682'>683</a>\u001b[0m           \u001b[39mlist\u001b[39;49m(custom_objects\u001b[39m.\u001b[39;49mitems())))\n\u001b[1;32m    <a href='file:///mnt/DATA/fharookshaik/Major%20Project/env/lib/python3.8/site-packages/keras/utils/generic_utils.py?line=683'>684</a>\u001b[0m \u001b[39melse\u001b[39;00m:\n\u001b[1;32m    <a href='file:///mnt/DATA/fharookshaik/Major%20Project/env/lib/python3.8/site-packages/keras/utils/generic_utils.py?line=684'>685</a>\u001b[0m   \u001b[39mwith\u001b[39;00m CustomObjectScope(custom_objects):\n",
      "File \u001b[0;32m/mnt/DATA/fharookshaik/Major Project/env/lib/python3.8/site-packages/keras/engine/training.py:2641\u001b[0m, in \u001b[0;36mModel.from_config\u001b[0;34m(cls, config, custom_objects)\u001b[0m\n\u001b[1;32m   <a href='file:///mnt/DATA/fharookshaik/Major%20Project/env/lib/python3.8/site-packages/keras/engine/training.py?line=2637'>2638</a>\u001b[0m \u001b[39mfrom\u001b[39;00m \u001b[39mkeras\u001b[39;00m\u001b[39m.\u001b[39;00m\u001b[39mengine\u001b[39;00m \u001b[39mimport\u001b[39;00m functional  \u001b[39m# pylint: disable=g-import-not-at-top\u001b[39;00m\n\u001b[1;32m   <a href='file:///mnt/DATA/fharookshaik/Major%20Project/env/lib/python3.8/site-packages/keras/engine/training.py?line=2638'>2639</a>\u001b[0m \u001b[39mwith\u001b[39;00m generic_utils\u001b[39m.\u001b[39mSharedObjectLoadingScope():\n\u001b[1;32m   <a href='file:///mnt/DATA/fharookshaik/Major%20Project/env/lib/python3.8/site-packages/keras/engine/training.py?line=2639'>2640</a>\u001b[0m   input_tensors, output_tensors, created_layers \u001b[39m=\u001b[39m (\n\u001b[0;32m-> <a href='file:///mnt/DATA/fharookshaik/Major%20Project/env/lib/python3.8/site-packages/keras/engine/training.py?line=2640'>2641</a>\u001b[0m       functional\u001b[39m.\u001b[39;49mreconstruct_from_config(config, custom_objects))\n\u001b[1;32m   <a href='file:///mnt/DATA/fharookshaik/Major%20Project/env/lib/python3.8/site-packages/keras/engine/training.py?line=2641'>2642</a>\u001b[0m   \u001b[39m# Initialize a model belonging to `cls`, which can be user-defined or\u001b[39;00m\n\u001b[1;32m   <a href='file:///mnt/DATA/fharookshaik/Major%20Project/env/lib/python3.8/site-packages/keras/engine/training.py?line=2642'>2643</a>\u001b[0m   \u001b[39m# `Functional`.\u001b[39;00m\n\u001b[1;32m   <a href='file:///mnt/DATA/fharookshaik/Major%20Project/env/lib/python3.8/site-packages/keras/engine/training.py?line=2643'>2644</a>\u001b[0m   model \u001b[39m=\u001b[39m \u001b[39mcls\u001b[39m(inputs\u001b[39m=\u001b[39minput_tensors, outputs\u001b[39m=\u001b[39moutput_tensors,\n\u001b[1;32m   <a href='file:///mnt/DATA/fharookshaik/Major%20Project/env/lib/python3.8/site-packages/keras/engine/training.py?line=2644'>2645</a>\u001b[0m               name\u001b[39m=\u001b[39mconfig\u001b[39m.\u001b[39mget(\u001b[39m'\u001b[39m\u001b[39mname\u001b[39m\u001b[39m'\u001b[39m))\n",
      "File \u001b[0;32m/mnt/DATA/fharookshaik/Major Project/env/lib/python3.8/site-packages/keras/engine/functional.py:1326\u001b[0m, in \u001b[0;36mreconstruct_from_config\u001b[0;34m(config, custom_objects, created_layers)\u001b[0m\n\u001b[1;32m   <a href='file:///mnt/DATA/fharookshaik/Major%20Project/env/lib/python3.8/site-packages/keras/engine/functional.py?line=1323'>1324</a>\u001b[0m \u001b[39m# First, we create all layers and enqueue nodes to be processed\u001b[39;00m\n\u001b[1;32m   <a href='file:///mnt/DATA/fharookshaik/Major%20Project/env/lib/python3.8/site-packages/keras/engine/functional.py?line=1324'>1325</a>\u001b[0m \u001b[39mfor\u001b[39;00m layer_data \u001b[39min\u001b[39;00m config[\u001b[39m'\u001b[39m\u001b[39mlayers\u001b[39m\u001b[39m'\u001b[39m]:\n\u001b[0;32m-> <a href='file:///mnt/DATA/fharookshaik/Major%20Project/env/lib/python3.8/site-packages/keras/engine/functional.py?line=1325'>1326</a>\u001b[0m   process_layer(layer_data)\n\u001b[1;32m   <a href='file:///mnt/DATA/fharookshaik/Major%20Project/env/lib/python3.8/site-packages/keras/engine/functional.py?line=1326'>1327</a>\u001b[0m \u001b[39m# Then we process nodes in order of layer depth.\u001b[39;00m\n\u001b[1;32m   <a href='file:///mnt/DATA/fharookshaik/Major%20Project/env/lib/python3.8/site-packages/keras/engine/functional.py?line=1327'>1328</a>\u001b[0m \u001b[39m# Nodes that cannot yet be processed (if the inbound node\u001b[39;00m\n\u001b[1;32m   <a href='file:///mnt/DATA/fharookshaik/Major%20Project/env/lib/python3.8/site-packages/keras/engine/functional.py?line=1328'>1329</a>\u001b[0m \u001b[39m# does not yet exist) are re-enqueued, and the process\u001b[39;00m\n\u001b[1;32m   <a href='file:///mnt/DATA/fharookshaik/Major%20Project/env/lib/python3.8/site-packages/keras/engine/functional.py?line=1329'>1330</a>\u001b[0m \u001b[39m# is repeated until all nodes are processed.\u001b[39;00m\n\u001b[1;32m   <a href='file:///mnt/DATA/fharookshaik/Major%20Project/env/lib/python3.8/site-packages/keras/engine/functional.py?line=1330'>1331</a>\u001b[0m \u001b[39mwhile\u001b[39;00m unprocessed_nodes:\n",
      "File \u001b[0;32m/mnt/DATA/fharookshaik/Major Project/env/lib/python3.8/site-packages/keras/engine/functional.py:1308\u001b[0m, in \u001b[0;36mreconstruct_from_config.<locals>.process_layer\u001b[0;34m(layer_data)\u001b[0m\n\u001b[1;32m   <a href='file:///mnt/DATA/fharookshaik/Major%20Project/env/lib/python3.8/site-packages/keras/engine/functional.py?line=1303'>1304</a>\u001b[0m \u001b[39melse\u001b[39;00m:\n\u001b[1;32m   <a href='file:///mnt/DATA/fharookshaik/Major%20Project/env/lib/python3.8/site-packages/keras/engine/functional.py?line=1304'>1305</a>\u001b[0m   \u001b[39m# Instantiate layer.\u001b[39;00m\n\u001b[1;32m   <a href='file:///mnt/DATA/fharookshaik/Major%20Project/env/lib/python3.8/site-packages/keras/engine/functional.py?line=1305'>1306</a>\u001b[0m   \u001b[39mfrom\u001b[39;00m \u001b[39mkeras\u001b[39;00m\u001b[39m.\u001b[39;00m\u001b[39mlayers\u001b[39;00m \u001b[39mimport\u001b[39;00m deserialize \u001b[39mas\u001b[39;00m deserialize_layer  \u001b[39m# pylint: disable=g-import-not-at-top\u001b[39;00m\n\u001b[0;32m-> <a href='file:///mnt/DATA/fharookshaik/Major%20Project/env/lib/python3.8/site-packages/keras/engine/functional.py?line=1307'>1308</a>\u001b[0m   layer \u001b[39m=\u001b[39m deserialize_layer(layer_data, custom_objects\u001b[39m=\u001b[39;49mcustom_objects)\n\u001b[1;32m   <a href='file:///mnt/DATA/fharookshaik/Major%20Project/env/lib/python3.8/site-packages/keras/engine/functional.py?line=1308'>1309</a>\u001b[0m   created_layers[layer_name] \u001b[39m=\u001b[39m layer\n\u001b[1;32m   <a href='file:///mnt/DATA/fharookshaik/Major%20Project/env/lib/python3.8/site-packages/keras/engine/functional.py?line=1310'>1311</a>\u001b[0m node_count_by_layer[layer] \u001b[39m=\u001b[39m \u001b[39mint\u001b[39m(_should_skip_first_node(layer))\n",
      "File \u001b[0;32m/mnt/DATA/fharookshaik/Major Project/env/lib/python3.8/site-packages/keras/layers/serialization.py:207\u001b[0m, in \u001b[0;36mdeserialize\u001b[0;34m(config, custom_objects)\u001b[0m\n\u001b[1;32m    <a href='file:///mnt/DATA/fharookshaik/Major%20Project/env/lib/python3.8/site-packages/keras/layers/serialization.py?line=169'>170</a>\u001b[0m \u001b[39m\"\"\"Instantiates a layer from a config dictionary.\u001b[39;00m\n\u001b[1;32m    <a href='file:///mnt/DATA/fharookshaik/Major%20Project/env/lib/python3.8/site-packages/keras/layers/serialization.py?line=170'>171</a>\u001b[0m \n\u001b[1;32m    <a href='file:///mnt/DATA/fharookshaik/Major%20Project/env/lib/python3.8/site-packages/keras/layers/serialization.py?line=171'>172</a>\u001b[0m \u001b[39mArgs:\u001b[39;00m\n\u001b[0;32m   (...)\u001b[0m\n\u001b[1;32m    <a href='file:///mnt/DATA/fharookshaik/Major%20Project/env/lib/python3.8/site-packages/keras/layers/serialization.py?line=203'>204</a>\u001b[0m \u001b[39m```\u001b[39;00m\n\u001b[1;32m    <a href='file:///mnt/DATA/fharookshaik/Major%20Project/env/lib/python3.8/site-packages/keras/layers/serialization.py?line=204'>205</a>\u001b[0m \u001b[39m\"\"\"\u001b[39;00m\n\u001b[1;32m    <a href='file:///mnt/DATA/fharookshaik/Major%20Project/env/lib/python3.8/site-packages/keras/layers/serialization.py?line=205'>206</a>\u001b[0m populate_deserializable_objects()\n\u001b[0;32m--> <a href='file:///mnt/DATA/fharookshaik/Major%20Project/env/lib/python3.8/site-packages/keras/layers/serialization.py?line=206'>207</a>\u001b[0m \u001b[39mreturn\u001b[39;00m generic_utils\u001b[39m.\u001b[39;49mdeserialize_keras_object(\n\u001b[1;32m    <a href='file:///mnt/DATA/fharookshaik/Major%20Project/env/lib/python3.8/site-packages/keras/layers/serialization.py?line=207'>208</a>\u001b[0m     config,\n\u001b[1;32m    <a href='file:///mnt/DATA/fharookshaik/Major%20Project/env/lib/python3.8/site-packages/keras/layers/serialization.py?line=208'>209</a>\u001b[0m     module_objects\u001b[39m=\u001b[39;49mLOCAL\u001b[39m.\u001b[39;49mALL_OBJECTS,\n\u001b[1;32m    <a href='file:///mnt/DATA/fharookshaik/Major%20Project/env/lib/python3.8/site-packages/keras/layers/serialization.py?line=209'>210</a>\u001b[0m     custom_objects\u001b[39m=\u001b[39;49mcustom_objects,\n\u001b[1;32m    <a href='file:///mnt/DATA/fharookshaik/Major%20Project/env/lib/python3.8/site-packages/keras/layers/serialization.py?line=210'>211</a>\u001b[0m     printable_module_name\u001b[39m=\u001b[39;49m\u001b[39m'\u001b[39;49m\u001b[39mlayer\u001b[39;49m\u001b[39m'\u001b[39;49m)\n",
      "File \u001b[0;32m/mnt/DATA/fharookshaik/Major Project/env/lib/python3.8/site-packages/keras/utils/generic_utils.py:679\u001b[0m, in \u001b[0;36mdeserialize_keras_object\u001b[0;34m(identifier, module_objects, custom_objects, printable_module_name)\u001b[0m\n\u001b[1;32m    <a href='file:///mnt/DATA/fharookshaik/Major%20Project/env/lib/python3.8/site-packages/keras/utils/generic_utils.py?line=675'>676</a>\u001b[0m custom_objects \u001b[39m=\u001b[39m custom_objects \u001b[39mor\u001b[39;00m {}\n\u001b[1;32m    <a href='file:///mnt/DATA/fharookshaik/Major%20Project/env/lib/python3.8/site-packages/keras/utils/generic_utils.py?line=677'>678</a>\u001b[0m \u001b[39mif\u001b[39;00m \u001b[39m'\u001b[39m\u001b[39mcustom_objects\u001b[39m\u001b[39m'\u001b[39m \u001b[39min\u001b[39;00m arg_spec\u001b[39m.\u001b[39margs:\n\u001b[0;32m--> <a href='file:///mnt/DATA/fharookshaik/Major%20Project/env/lib/python3.8/site-packages/keras/utils/generic_utils.py?line=678'>679</a>\u001b[0m   deserialized_obj \u001b[39m=\u001b[39m \u001b[39mcls\u001b[39;49m\u001b[39m.\u001b[39;49mfrom_config(\n\u001b[1;32m    <a href='file:///mnt/DATA/fharookshaik/Major%20Project/env/lib/python3.8/site-packages/keras/utils/generic_utils.py?line=679'>680</a>\u001b[0m       cls_config,\n\u001b[1;32m    <a href='file:///mnt/DATA/fharookshaik/Major%20Project/env/lib/python3.8/site-packages/keras/utils/generic_utils.py?line=680'>681</a>\u001b[0m       custom_objects\u001b[39m=\u001b[39;49m\u001b[39mdict\u001b[39;49m(\n\u001b[1;32m    <a href='file:///mnt/DATA/fharookshaik/Major%20Project/env/lib/python3.8/site-packages/keras/utils/generic_utils.py?line=681'>682</a>\u001b[0m           \u001b[39mlist\u001b[39;49m(_GLOBAL_CUSTOM_OBJECTS\u001b[39m.\u001b[39;49mitems()) \u001b[39m+\u001b[39;49m\n\u001b[1;32m    <a href='file:///mnt/DATA/fharookshaik/Major%20Project/env/lib/python3.8/site-packages/keras/utils/generic_utils.py?line=682'>683</a>\u001b[0m           \u001b[39mlist\u001b[39;49m(custom_objects\u001b[39m.\u001b[39;49mitems())))\n\u001b[1;32m    <a href='file:///mnt/DATA/fharookshaik/Major%20Project/env/lib/python3.8/site-packages/keras/utils/generic_utils.py?line=683'>684</a>\u001b[0m \u001b[39melse\u001b[39;00m:\n\u001b[1;32m    <a href='file:///mnt/DATA/fharookshaik/Major%20Project/env/lib/python3.8/site-packages/keras/utils/generic_utils.py?line=684'>685</a>\u001b[0m   \u001b[39mwith\u001b[39;00m CustomObjectScope(custom_objects):\n",
      "File \u001b[0;32m/mnt/DATA/fharookshaik/Major Project/env/lib/python3.8/site-packages/keras/layers/core/lambda_layer.py:303\u001b[0m, in \u001b[0;36mLambda.from_config\u001b[0;34m(cls, config, custom_objects)\u001b[0m\n\u001b[1;32m    <a href='file:///mnt/DATA/fharookshaik/Major%20Project/env/lib/python3.8/site-packages/keras/layers/core/lambda_layer.py?line=299'>300</a>\u001b[0m \u001b[39m@classmethod\u001b[39m\n\u001b[1;32m    <a href='file:///mnt/DATA/fharookshaik/Major%20Project/env/lib/python3.8/site-packages/keras/layers/core/lambda_layer.py?line=300'>301</a>\u001b[0m \u001b[39mdef\u001b[39;00m \u001b[39mfrom_config\u001b[39m(\u001b[39mcls\u001b[39m, config, custom_objects\u001b[39m=\u001b[39m\u001b[39mNone\u001b[39;00m):\n\u001b[1;32m    <a href='file:///mnt/DATA/fharookshaik/Major%20Project/env/lib/python3.8/site-packages/keras/layers/core/lambda_layer.py?line=301'>302</a>\u001b[0m   config \u001b[39m=\u001b[39m config\u001b[39m.\u001b[39mcopy()\n\u001b[0;32m--> <a href='file:///mnt/DATA/fharookshaik/Major%20Project/env/lib/python3.8/site-packages/keras/layers/core/lambda_layer.py?line=302'>303</a>\u001b[0m   function \u001b[39m=\u001b[39m \u001b[39mcls\u001b[39;49m\u001b[39m.\u001b[39;49m_parse_function_from_config(config, custom_objects,\n\u001b[1;32m    <a href='file:///mnt/DATA/fharookshaik/Major%20Project/env/lib/python3.8/site-packages/keras/layers/core/lambda_layer.py?line=303'>304</a>\u001b[0m                                              \u001b[39m'\u001b[39;49m\u001b[39mfunction\u001b[39;49m\u001b[39m'\u001b[39;49m, \u001b[39m'\u001b[39;49m\u001b[39mmodule\u001b[39;49m\u001b[39m'\u001b[39;49m,\n\u001b[1;32m    <a href='file:///mnt/DATA/fharookshaik/Major%20Project/env/lib/python3.8/site-packages/keras/layers/core/lambda_layer.py?line=304'>305</a>\u001b[0m                                              \u001b[39m'\u001b[39;49m\u001b[39mfunction_type\u001b[39;49m\u001b[39m'\u001b[39;49m)\n\u001b[1;32m    <a href='file:///mnt/DATA/fharookshaik/Major%20Project/env/lib/python3.8/site-packages/keras/layers/core/lambda_layer.py?line=306'>307</a>\u001b[0m   output_shape \u001b[39m=\u001b[39m \u001b[39mcls\u001b[39m\u001b[39m.\u001b[39m_parse_function_from_config(config, custom_objects,\n\u001b[1;32m    <a href='file:///mnt/DATA/fharookshaik/Major%20Project/env/lib/python3.8/site-packages/keras/layers/core/lambda_layer.py?line=307'>308</a>\u001b[0m                                                  \u001b[39m'\u001b[39m\u001b[39moutput_shape\u001b[39m\u001b[39m'\u001b[39m,\n\u001b[1;32m    <a href='file:///mnt/DATA/fharookshaik/Major%20Project/env/lib/python3.8/site-packages/keras/layers/core/lambda_layer.py?line=308'>309</a>\u001b[0m                                                  \u001b[39m'\u001b[39m\u001b[39moutput_shape_module\u001b[39m\u001b[39m'\u001b[39m,\n\u001b[1;32m    <a href='file:///mnt/DATA/fharookshaik/Major%20Project/env/lib/python3.8/site-packages/keras/layers/core/lambda_layer.py?line=309'>310</a>\u001b[0m                                                  \u001b[39m'\u001b[39m\u001b[39moutput_shape_type\u001b[39m\u001b[39m'\u001b[39m)\n\u001b[1;32m    <a href='file:///mnt/DATA/fharookshaik/Major%20Project/env/lib/python3.8/site-packages/keras/layers/core/lambda_layer.py?line=310'>311</a>\u001b[0m   \u001b[39mif\u001b[39;00m \u001b[39m'\u001b[39m\u001b[39mmask\u001b[39m\u001b[39m'\u001b[39m \u001b[39min\u001b[39;00m config:\n",
      "File \u001b[0;32m/mnt/DATA/fharookshaik/Major Project/env/lib/python3.8/site-packages/keras/layers/core/lambda_layer.py:358\u001b[0m, in \u001b[0;36mLambda._parse_function_from_config\u001b[0;34m(cls, config, custom_objects, func_attr_name, module_attr_name, func_type_attr_name)\u001b[0m\n\u001b[1;32m    <a href='file:///mnt/DATA/fharookshaik/Major%20Project/env/lib/python3.8/site-packages/keras/layers/core/lambda_layer.py?line=351'>352</a>\u001b[0m   function \u001b[39m=\u001b[39m generic_utils\u001b[39m.\u001b[39mdeserialize_keras_object(\n\u001b[1;32m    <a href='file:///mnt/DATA/fharookshaik/Major%20Project/env/lib/python3.8/site-packages/keras/layers/core/lambda_layer.py?line=352'>353</a>\u001b[0m       config[func_attr_name],\n\u001b[1;32m    <a href='file:///mnt/DATA/fharookshaik/Major%20Project/env/lib/python3.8/site-packages/keras/layers/core/lambda_layer.py?line=353'>354</a>\u001b[0m       custom_objects\u001b[39m=\u001b[39mcustom_objects,\n\u001b[1;32m    <a href='file:///mnt/DATA/fharookshaik/Major%20Project/env/lib/python3.8/site-packages/keras/layers/core/lambda_layer.py?line=354'>355</a>\u001b[0m       printable_module_name\u001b[39m=\u001b[39m\u001b[39m'\u001b[39m\u001b[39mfunction in Lambda layer\u001b[39m\u001b[39m'\u001b[39m)\n\u001b[1;32m    <a href='file:///mnt/DATA/fharookshaik/Major%20Project/env/lib/python3.8/site-packages/keras/layers/core/lambda_layer.py?line=355'>356</a>\u001b[0m \u001b[39melif\u001b[39;00m function_type \u001b[39m==\u001b[39m \u001b[39m'\u001b[39m\u001b[39mlambda\u001b[39m\u001b[39m'\u001b[39m:\n\u001b[1;32m    <a href='file:///mnt/DATA/fharookshaik/Major%20Project/env/lib/python3.8/site-packages/keras/layers/core/lambda_layer.py?line=356'>357</a>\u001b[0m   \u001b[39m# Unsafe deserialization from bytecode\u001b[39;00m\n\u001b[0;32m--> <a href='file:///mnt/DATA/fharookshaik/Major%20Project/env/lib/python3.8/site-packages/keras/layers/core/lambda_layer.py?line=357'>358</a>\u001b[0m   function \u001b[39m=\u001b[39m generic_utils\u001b[39m.\u001b[39;49mfunc_load(config[func_attr_name], globs\u001b[39m=\u001b[39;49mglobs)\n\u001b[1;32m    <a href='file:///mnt/DATA/fharookshaik/Major%20Project/env/lib/python3.8/site-packages/keras/layers/core/lambda_layer.py?line=358'>359</a>\u001b[0m \u001b[39melif\u001b[39;00m function_type \u001b[39m==\u001b[39m \u001b[39m'\u001b[39m\u001b[39mraw\u001b[39m\u001b[39m'\u001b[39m:\n\u001b[1;32m    <a href='file:///mnt/DATA/fharookshaik/Major%20Project/env/lib/python3.8/site-packages/keras/layers/core/lambda_layer.py?line=359'>360</a>\u001b[0m   function \u001b[39m=\u001b[39m config[func_attr_name]\n",
      "File \u001b[0;32m/mnt/DATA/fharookshaik/Major Project/env/lib/python3.8/site-packages/keras/utils/generic_utils.py:793\u001b[0m, in \u001b[0;36mfunc_load\u001b[0;34m(code, defaults, closure, globs)\u001b[0m\n\u001b[1;32m    <a href='file:///mnt/DATA/fharookshaik/Major%20Project/env/lib/python3.8/site-packages/keras/utils/generic_utils.py?line=790'>791</a>\u001b[0m \u001b[39mexcept\u001b[39;00m (\u001b[39mUnicodeEncodeError\u001b[39;00m, binascii\u001b[39m.\u001b[39mError):\n\u001b[1;32m    <a href='file:///mnt/DATA/fharookshaik/Major%20Project/env/lib/python3.8/site-packages/keras/utils/generic_utils.py?line=791'>792</a>\u001b[0m   raw_code \u001b[39m=\u001b[39m code\u001b[39m.\u001b[39mencode(\u001b[39m'\u001b[39m\u001b[39mraw_unicode_escape\u001b[39m\u001b[39m'\u001b[39m)\n\u001b[0;32m--> <a href='file:///mnt/DATA/fharookshaik/Major%20Project/env/lib/python3.8/site-packages/keras/utils/generic_utils.py?line=792'>793</a>\u001b[0m code \u001b[39m=\u001b[39m marshal\u001b[39m.\u001b[39;49mloads(raw_code)\n\u001b[1;32m    <a href='file:///mnt/DATA/fharookshaik/Major%20Project/env/lib/python3.8/site-packages/keras/utils/generic_utils.py?line=793'>794</a>\u001b[0m \u001b[39mif\u001b[39;00m globs \u001b[39mis\u001b[39;00m \u001b[39mNone\u001b[39;00m:\n\u001b[1;32m    <a href='file:///mnt/DATA/fharookshaik/Major%20Project/env/lib/python3.8/site-packages/keras/utils/generic_utils.py?line=794'>795</a>\u001b[0m   globs \u001b[39m=\u001b[39m \u001b[39mglobals\u001b[39m()\n",
      "\u001b[0;31mValueError\u001b[0m: bad marshal data (unknown type code)"
     ]
    }
   ],
   "source": [
    "# from keras.applications.inception_v3 import InceptionV3,decode_predictions\n",
    "\n",
    "# model = InceptionV3(\n",
    "#     include_top=True,\n",
    "#     weights='imagenet'\n",
    "# )\n",
    "from keras.models import load_model\n",
    "\n",
    "# model = model_from_json(open('../models/pre-trained/facenet/facenet_model.json','r').read())\n",
    "\n",
    "model = load_model('../models/pre-trained/facenet/facenet_weights.h5')"
   ]
  },
  {
   "cell_type": "code",
   "execution_count": 31,
   "metadata": {},
   "outputs": [],
   "source": [
    "import cv2 as cv\n",
    "import matplotlib.pyplot as plt\n",
    "import numpy as np"
   ]
  },
  {
   "cell_type": "code",
   "execution_count": 23,
   "metadata": {},
   "outputs": [],
   "source": [
    "import dlib\n",
    "\n",
    "face_detector = dlib.get_frontal_face_detector()"
   ]
  },
  {
   "cell_type": "code",
   "execution_count": 24,
   "metadata": {},
   "outputs": [
    {
     "data": {
      "text/plain": [
       "rectangles[[(803, 494) (958, 649)], [(242, 511) (428, 696)]]"
      ]
     },
     "execution_count": 24,
     "metadata": {},
     "output_type": "execute_result"
    }
   ],
   "source": [
    "img = cv.imread(os.path.join(IMAGES_DIR_PATH,'covid_memes_18.png'))\n",
    "img = cv.cvtColor(img,cv.COLOR_BGR2RGB)\n",
    "faces = face_detector(img,1)\n",
    "faces"
   ]
  },
  {
   "cell_type": "code",
   "execution_count": 37,
   "metadata": {},
   "outputs": [
    {
     "name": "stdout",
     "output_type": "stream",
     "text": [
      "[[('n06359193', 'web_site', 0.9999896), ('n01924916', 'flatworm', 1.0344769e-05), ('n03950228', 'pitcher', 3.3979687e-27), ('n02841315', 'binoculars', 1.9240841e-31), ('n03047690', 'clog', 6.906711e-35)]]\n",
      "[[('n03047690', 'clog', 0.9999999), ('n01924916', 'flatworm', 1.7398433e-07), ('n03950228', 'pitcher', 1.4971912e-08), ('n06359193', 'web_site', 2.776135e-10), ('n02841315', 'binoculars', 4.9295263e-27)]]\n"
     ]
    }
   ],
   "source": [
    "for face in faces:\n",
    "    face_img = img[face.top():face.bottom(),face.left():face.right()]\n",
    "    face_img = cv.resize(face_img,(299,299))\n",
    "    face_img = np.array(face_img).reshape((1,299,299,3))\n",
    "    res = model.predict(face_img)\n",
    "    print(decode_predictions(res))"
   ]
  },
  {
   "cell_type": "code",
   "execution_count": 43,
   "metadata": {},
   "outputs": [
    {
     "name": "stdout",
     "output_type": "stream",
     "text": [
      "Directory  /home/fharookshaik /.deepface created\n",
      "Directory  /home/fharookshaik /.deepface/weights created\n"
     ]
    }
   ],
   "source": [
    "from deepface import DeepFace"
   ]
  },
  {
   "cell_type": "code",
   "execution_count": 50,
   "metadata": {},
   "outputs": [
    {
     "name": "stdout",
     "output_type": "stream",
     "text": [
      "Representations stored in  /mnt/DATA/fharookshaik/Major Project/dataset/images / representations_vgg_face.pkl  file. Please delete this file when you add new identities in your database.\n",
      "find function lasts  1556.7338182926178  seconds\n"
     ]
    }
   ],
   "source": [
    "import pandas as pd\n",
    "\n",
    "df = DeepFace.find(img_path='/mnt/DATA/fharookshaik/Major Project/dataset/Temp Images/bernie.png',db_path='/mnt/DATA/fharookshaik/Major Project/dataset/images',enforce_detection=False,prog_bar=True)"
   ]
  },
  {
   "cell_type": "code",
   "execution_count": 55,
   "metadata": {},
   "outputs": [],
   "source": [
    "df.to_json('bernie.json')"
   ]
  }
 ],
 "metadata": {
  "interpreter": {
   "hash": "8d6f2b50d0ee040e29b170480cc8b0010dff64febb70d5a6da78e0f0b5eb651a"
  },
  "kernelspec": {
   "display_name": "Python 3.8.10 64-bit ('env': venv)",
   "language": "python",
   "name": "python3"
  },
  "language_info": {
   "codemirror_mode": {
    "name": "ipython",
    "version": 3
   },
   "file_extension": ".py",
   "mimetype": "text/x-python",
   "name": "python",
   "nbconvert_exporter": "python",
   "pygments_lexer": "ipython3",
   "version": "3.8.10"
  },
  "orig_nbformat": 4
 },
 "nbformat": 4,
 "nbformat_minor": 2
}
